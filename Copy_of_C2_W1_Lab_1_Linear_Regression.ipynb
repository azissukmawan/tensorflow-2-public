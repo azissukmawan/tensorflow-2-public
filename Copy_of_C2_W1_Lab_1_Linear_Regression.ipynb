{
  "nbformat": 4,
  "nbformat_minor": 0,
  "metadata": {
    "accelerator": "GPU",
    "colab": {
      "provenance": [],
      "gpuType": "T4",
      "include_colab_link": true
    },
    "kernelspec": {
      "display_name": "Python 3",
      "name": "python3"
    },
    "language_info": {
      "codemirror_mode": {
        "name": "ipython",
        "version": 3
      },
      "file_extension": ".py",
      "mimetype": "text/x-python",
      "name": "python",
      "nbconvert_exporter": "python",
      "pygments_lexer": "ipython3",
      "version": "3.8.5"
    }
  },
  "cells": [
    {
      "cell_type": "markdown",
      "metadata": {
        "id": "view-in-github",
        "colab_type": "text"
      },
      "source": [
        "<a href=\"https://colab.research.google.com/github/azissukmawan/tensorflow-2-public/blob/main/Copy_of_C2_W1_Lab_1_Linear_Regression.ipynb\" target=\"_parent\"><img src=\"https://colab.research.google.com/assets/colab-badge.svg\" alt=\"Open In Colab\"/></a>"
      ]
    },
    {
      "cell_type": "code",
      "metadata": {
        "id": "zX4Kg8DUTKWO"
      },
      "source": [
        "#@title Licensed under the Apache License, Version 2.0 (the \"License\");\n",
        "# you may not use this file except in compliance with the License.\n",
        "# You may obtain a copy of the License at\n",
        "#\n",
        "# https://www.apache.org/licenses/LICENSE-2.0\n",
        "#\n",
        "# Unless required by applicable law or agreed to in writing, software\n",
        "# distributed under the License is distributed on an \"AS IS\" BASIS,\n",
        "# WITHOUT WARRANTIES OR CONDITIONS OF ANY KIND, either express or implied.\n",
        "# See the License for the specific language governing permissions and\n",
        "# limitations under the License."
      ],
      "execution_count": null,
      "outputs": []
    },
    {
      "cell_type": "markdown",
      "metadata": {
        "id": "Za8-Nr5k11fh"
      },
      "source": [
        "##### Copyright 2018 The TensorFlow Authors."
      ]
    },
    {
      "cell_type": "code",
      "metadata": {
        "id": "Eq10uEbw0E4l"
      },
      "source": [
        "#@title Licensed under the Apache License, Version 2.0 (the \"License\");\n",
        "# you may not use this file except in compliance with the License.\n",
        "# You may obtain a copy of the License at\n",
        "#\n",
        "# https://www.apache.org/licenses/LICENSE-2.0\n",
        "#\n",
        "# Unless required by applicable law or agreed to in writing, software\n",
        "# distributed under the License is distributed on an \"AS IS\" BASIS,\n",
        "# WITHOUT WARRANTIES OR CONDITIONS OF ANY KIND, either express or implied.\n",
        "# See the License for the specific language governing permissions and\n",
        "# limitations under the License."
      ],
      "execution_count": null,
      "outputs": []
    },
    {
      "cell_type": "markdown",
      "metadata": {
        "id": "UysiGN3tGQHY"
      },
      "source": [
        "# Running TFLite Models"
      ]
    },
    {
      "cell_type": "markdown",
      "metadata": {
        "id": "W-VhTkyTGcaQ"
      },
      "source": [
        "## Setup"
      ]
    },
    {
      "cell_type": "code",
      "metadata": {
        "id": "Ll4ii2J9Fea_",
        "colab": {
          "base_uri": "https://localhost:8080/"
        },
        "outputId": "c6ecbc3b-3d5e-4cc9-e73a-b3bc6553c0f4"
      },
      "source": [
        "try:\n",
        "    %tensorflow_version 2.x\n",
        "except:\n",
        "    pass"
      ],
      "execution_count": 2,
      "outputs": [
        {
          "output_type": "stream",
          "name": "stdout",
          "text": [
            "Colab only includes TensorFlow 2.x; %tensorflow_version has no effect.\n"
          ]
        }
      ]
    },
    {
      "cell_type": "code",
      "metadata": {
        "id": "dy4BcTjBFTWx",
        "colab": {
          "base_uri": "https://localhost:8080/"
        },
        "outputId": "f0d2b8a0-af6b-4a52-c7b8-af0d72ebf5ef"
      },
      "source": [
        "import pathlib\n",
        "import numpy as np\n",
        "import matplotlib.pyplot as plt\n",
        "\n",
        "import tensorflow as tf\n",
        "\n",
        "print('\\u2022 Using TensorFlow Version:', tf.__version__)"
      ],
      "execution_count": 3,
      "outputs": [
        {
          "output_type": "stream",
          "name": "stdout",
          "text": [
            "• Using TensorFlow Version: 2.14.0\n"
          ]
        }
      ]
    },
    {
      "cell_type": "markdown",
      "metadata": {
        "id": "ceibQLDeGhI4"
      },
      "source": [
        "## Create a Basic Model of the Form y = mx + c"
      ]
    },
    {
      "cell_type": "code",
      "metadata": {
        "id": "YIBCsjQNF46Z",
        "colab": {
          "base_uri": "https://localhost:8080/"
        },
        "outputId": "391cb2e6-2cd8-4e64-e1e1-7c669746b106"
      },
      "source": [
        "# Create a simple Keras model.\n",
        "x = [-1, 0, 1, 2, 3, 4]\n",
        "y = [-3, -1, 1, 3, 5, 7]\n",
        "\n",
        "model = tf.keras.models.Sequential([\n",
        "        tf.keras.layers.Dense(units=1, input_shape=[1])\n",
        "])\n",
        "\n",
        "model.compile(optimizer='sgd',\n",
        "              loss='mean_squared_error')\n",
        "\n",
        "model.fit(x, y, epochs=200)"
      ],
      "execution_count": 4,
      "outputs": [
        {
          "output_type": "stream",
          "name": "stdout",
          "text": [
            "Epoch 1/200\n",
            "1/1 [==============================] - 6s 6s/step - loss: 3.9991\n",
            "Epoch 2/200\n",
            "1/1 [==============================] - 0s 14ms/step - loss: 3.3121\n",
            "Epoch 3/200\n",
            "1/1 [==============================] - 0s 10ms/step - loss: 2.7682\n",
            "Epoch 4/200\n",
            "1/1 [==============================] - 0s 12ms/step - loss: 2.3370\n",
            "Epoch 5/200\n",
            "1/1 [==============================] - 0s 11ms/step - loss: 1.9944\n",
            "Epoch 6/200\n",
            "1/1 [==============================] - 0s 11ms/step - loss: 1.7217\n",
            "Epoch 7/200\n",
            "1/1 [==============================] - 0s 11ms/step - loss: 1.5041\n",
            "Epoch 8/200\n",
            "1/1 [==============================] - 0s 10ms/step - loss: 1.3297\n",
            "Epoch 9/200\n",
            "1/1 [==============================] - 0s 11ms/step - loss: 1.1896\n",
            "Epoch 10/200\n",
            "1/1 [==============================] - 0s 12ms/step - loss: 1.0763\n",
            "Epoch 11/200\n",
            "1/1 [==============================] - 0s 11ms/step - loss: 0.9844\n",
            "Epoch 12/200\n",
            "1/1 [==============================] - 0s 13ms/step - loss: 0.9092\n",
            "Epoch 13/200\n",
            "1/1 [==============================] - 0s 11ms/step - loss: 0.8473\n",
            "Epoch 14/200\n",
            "1/1 [==============================] - 0s 11ms/step - loss: 0.7959\n",
            "Epoch 15/200\n",
            "1/1 [==============================] - 0s 11ms/step - loss: 0.7528\n",
            "Epoch 16/200\n",
            "1/1 [==============================] - 0s 10ms/step - loss: 0.7162\n",
            "Epoch 17/200\n",
            "1/1 [==============================] - 0s 9ms/step - loss: 0.6850\n",
            "Epoch 18/200\n",
            "1/1 [==============================] - 0s 11ms/step - loss: 0.6579\n",
            "Epoch 19/200\n",
            "1/1 [==============================] - 0s 14ms/step - loss: 0.6341\n",
            "Epoch 20/200\n",
            "1/1 [==============================] - 0s 10ms/step - loss: 0.6130\n",
            "Epoch 21/200\n",
            "1/1 [==============================] - 0s 10ms/step - loss: 0.5941\n",
            "Epoch 22/200\n",
            "1/1 [==============================] - 0s 10ms/step - loss: 0.5769\n",
            "Epoch 23/200\n",
            "1/1 [==============================] - 0s 14ms/step - loss: 0.5611\n",
            "Epoch 24/200\n",
            "1/1 [==============================] - 0s 11ms/step - loss: 0.5465\n",
            "Epoch 25/200\n",
            "1/1 [==============================] - 0s 11ms/step - loss: 0.5328\n",
            "Epoch 26/200\n",
            "1/1 [==============================] - 0s 9ms/step - loss: 0.5200\n",
            "Epoch 27/200\n",
            "1/1 [==============================] - 0s 11ms/step - loss: 0.5078\n",
            "Epoch 28/200\n",
            "1/1 [==============================] - 0s 10ms/step - loss: 0.4962\n",
            "Epoch 29/200\n",
            "1/1 [==============================] - 0s 12ms/step - loss: 0.4850\n",
            "Epoch 30/200\n",
            "1/1 [==============================] - 0s 10ms/step - loss: 0.4743\n",
            "Epoch 31/200\n",
            "1/1 [==============================] - 0s 11ms/step - loss: 0.4640\n",
            "Epoch 32/200\n",
            "1/1 [==============================] - 0s 11ms/step - loss: 0.4540\n",
            "Epoch 33/200\n",
            "1/1 [==============================] - 0s 12ms/step - loss: 0.4444\n",
            "Epoch 34/200\n",
            "1/1 [==============================] - 0s 12ms/step - loss: 0.4349\n",
            "Epoch 35/200\n",
            "1/1 [==============================] - 0s 11ms/step - loss: 0.4258\n",
            "Epoch 36/200\n",
            "1/1 [==============================] - 0s 12ms/step - loss: 0.4169\n",
            "Epoch 37/200\n",
            "1/1 [==============================] - 0s 11ms/step - loss: 0.4082\n",
            "Epoch 38/200\n",
            "1/1 [==============================] - 0s 13ms/step - loss: 0.3997\n",
            "Epoch 39/200\n",
            "1/1 [==============================] - 0s 12ms/step - loss: 0.3914\n",
            "Epoch 40/200\n",
            "1/1 [==============================] - 0s 12ms/step - loss: 0.3833\n",
            "Epoch 41/200\n",
            "1/1 [==============================] - 0s 12ms/step - loss: 0.3754\n",
            "Epoch 42/200\n",
            "1/1 [==============================] - 0s 11ms/step - loss: 0.3676\n",
            "Epoch 43/200\n",
            "1/1 [==============================] - 0s 12ms/step - loss: 0.3600\n",
            "Epoch 44/200\n",
            "1/1 [==============================] - 0s 12ms/step - loss: 0.3526\n",
            "Epoch 45/200\n",
            "1/1 [==============================] - 0s 12ms/step - loss: 0.3453\n",
            "Epoch 46/200\n",
            "1/1 [==============================] - 0s 12ms/step - loss: 0.3382\n",
            "Epoch 47/200\n",
            "1/1 [==============================] - 0s 11ms/step - loss: 0.3313\n",
            "Epoch 48/200\n",
            "1/1 [==============================] - 0s 11ms/step - loss: 0.3245\n",
            "Epoch 49/200\n",
            "1/1 [==============================] - 0s 9ms/step - loss: 0.3178\n",
            "Epoch 50/200\n",
            "1/1 [==============================] - 0s 10ms/step - loss: 0.3112\n",
            "Epoch 51/200\n",
            "1/1 [==============================] - 0s 9ms/step - loss: 0.3048\n",
            "Epoch 52/200\n",
            "1/1 [==============================] - 0s 10ms/step - loss: 0.2986\n",
            "Epoch 53/200\n",
            "1/1 [==============================] - 0s 11ms/step - loss: 0.2924\n",
            "Epoch 54/200\n",
            "1/1 [==============================] - 0s 12ms/step - loss: 0.2864\n",
            "Epoch 55/200\n",
            "1/1 [==============================] - 0s 11ms/step - loss: 0.2806\n",
            "Epoch 56/200\n",
            "1/1 [==============================] - 0s 12ms/step - loss: 0.2748\n",
            "Epoch 57/200\n",
            "1/1 [==============================] - 0s 12ms/step - loss: 0.2691\n",
            "Epoch 58/200\n",
            "1/1 [==============================] - 0s 12ms/step - loss: 0.2636\n",
            "Epoch 59/200\n",
            "1/1 [==============================] - 0s 10ms/step - loss: 0.2582\n",
            "Epoch 60/200\n",
            "1/1 [==============================] - 0s 13ms/step - loss: 0.2529\n",
            "Epoch 61/200\n",
            "1/1 [==============================] - 0s 10ms/step - loss: 0.2477\n",
            "Epoch 62/200\n",
            "1/1 [==============================] - 0s 11ms/step - loss: 0.2426\n",
            "Epoch 63/200\n",
            "1/1 [==============================] - 0s 11ms/step - loss: 0.2376\n",
            "Epoch 64/200\n",
            "1/1 [==============================] - 0s 11ms/step - loss: 0.2327\n",
            "Epoch 65/200\n",
            "1/1 [==============================] - 0s 16ms/step - loss: 0.2280\n",
            "Epoch 66/200\n",
            "1/1 [==============================] - 0s 11ms/step - loss: 0.2233\n",
            "Epoch 67/200\n",
            "1/1 [==============================] - 0s 11ms/step - loss: 0.2187\n",
            "Epoch 68/200\n",
            "1/1 [==============================] - 0s 13ms/step - loss: 0.2142\n",
            "Epoch 69/200\n",
            "1/1 [==============================] - 0s 11ms/step - loss: 0.2098\n",
            "Epoch 70/200\n",
            "1/1 [==============================] - 0s 13ms/step - loss: 0.2055\n",
            "Epoch 71/200\n",
            "1/1 [==============================] - 0s 12ms/step - loss: 0.2013\n",
            "Epoch 72/200\n",
            "1/1 [==============================] - 0s 10ms/step - loss: 0.1971\n",
            "Epoch 73/200\n",
            "1/1 [==============================] - 0s 11ms/step - loss: 0.1931\n",
            "Epoch 74/200\n",
            "1/1 [==============================] - 0s 11ms/step - loss: 0.1891\n",
            "Epoch 75/200\n",
            "1/1 [==============================] - 0s 12ms/step - loss: 0.1852\n",
            "Epoch 76/200\n",
            "1/1 [==============================] - 0s 11ms/step - loss: 0.1814\n",
            "Epoch 77/200\n",
            "1/1 [==============================] - 0s 11ms/step - loss: 0.1777\n",
            "Epoch 78/200\n",
            "1/1 [==============================] - 0s 11ms/step - loss: 0.1741\n",
            "Epoch 79/200\n",
            "1/1 [==============================] - 0s 11ms/step - loss: 0.1705\n",
            "Epoch 80/200\n",
            "1/1 [==============================] - 0s 11ms/step - loss: 0.1670\n",
            "Epoch 81/200\n",
            "1/1 [==============================] - 0s 16ms/step - loss: 0.1636\n",
            "Epoch 82/200\n",
            "1/1 [==============================] - 0s 10ms/step - loss: 0.1602\n",
            "Epoch 83/200\n",
            "1/1 [==============================] - 0s 9ms/step - loss: 0.1569\n",
            "Epoch 84/200\n",
            "1/1 [==============================] - 0s 12ms/step - loss: 0.1537\n",
            "Epoch 85/200\n",
            "1/1 [==============================] - 0s 12ms/step - loss: 0.1505\n",
            "Epoch 86/200\n",
            "1/1 [==============================] - 0s 13ms/step - loss: 0.1474\n",
            "Epoch 87/200\n",
            "1/1 [==============================] - 0s 11ms/step - loss: 0.1444\n",
            "Epoch 88/200\n",
            "1/1 [==============================] - 0s 13ms/step - loss: 0.1414\n",
            "Epoch 89/200\n",
            "1/1 [==============================] - 0s 11ms/step - loss: 0.1385\n",
            "Epoch 90/200\n",
            "1/1 [==============================] - 0s 12ms/step - loss: 0.1357\n",
            "Epoch 91/200\n",
            "1/1 [==============================] - 0s 10ms/step - loss: 0.1329\n",
            "Epoch 92/200\n",
            "1/1 [==============================] - 0s 14ms/step - loss: 0.1302\n",
            "Epoch 93/200\n",
            "1/1 [==============================] - 0s 12ms/step - loss: 0.1275\n",
            "Epoch 94/200\n",
            "1/1 [==============================] - 0s 14ms/step - loss: 0.1249\n",
            "Epoch 95/200\n",
            "1/1 [==============================] - 0s 11ms/step - loss: 0.1223\n",
            "Epoch 96/200\n",
            "1/1 [==============================] - 0s 12ms/step - loss: 0.1198\n",
            "Epoch 97/200\n",
            "1/1 [==============================] - 0s 14ms/step - loss: 0.1173\n",
            "Epoch 98/200\n",
            "1/1 [==============================] - 0s 11ms/step - loss: 0.1149\n",
            "Epoch 99/200\n",
            "1/1 [==============================] - 0s 12ms/step - loss: 0.1126\n",
            "Epoch 100/200\n",
            "1/1 [==============================] - 0s 11ms/step - loss: 0.1103\n",
            "Epoch 101/200\n",
            "1/1 [==============================] - 0s 12ms/step - loss: 0.1080\n",
            "Epoch 102/200\n",
            "1/1 [==============================] - 0s 12ms/step - loss: 0.1058\n",
            "Epoch 103/200\n",
            "1/1 [==============================] - 0s 13ms/step - loss: 0.1036\n",
            "Epoch 104/200\n",
            "1/1 [==============================] - 0s 12ms/step - loss: 0.1015\n",
            "Epoch 105/200\n",
            "1/1 [==============================] - 0s 11ms/step - loss: 0.0994\n",
            "Epoch 106/200\n",
            "1/1 [==============================] - 0s 11ms/step - loss: 0.0973\n",
            "Epoch 107/200\n",
            "1/1 [==============================] - 0s 11ms/step - loss: 0.0953\n",
            "Epoch 108/200\n",
            "1/1 [==============================] - 0s 11ms/step - loss: 0.0934\n",
            "Epoch 109/200\n",
            "1/1 [==============================] - 0s 10ms/step - loss: 0.0915\n",
            "Epoch 110/200\n",
            "1/1 [==============================] - 0s 13ms/step - loss: 0.0896\n",
            "Epoch 111/200\n",
            "1/1 [==============================] - 0s 12ms/step - loss: 0.0877\n",
            "Epoch 112/200\n",
            "1/1 [==============================] - 0s 12ms/step - loss: 0.0859\n",
            "Epoch 113/200\n",
            "1/1 [==============================] - 0s 10ms/step - loss: 0.0842\n",
            "Epoch 114/200\n",
            "1/1 [==============================] - 0s 9ms/step - loss: 0.0825\n",
            "Epoch 115/200\n",
            "1/1 [==============================] - 0s 11ms/step - loss: 0.0808\n",
            "Epoch 116/200\n",
            "1/1 [==============================] - 0s 8ms/step - loss: 0.0791\n",
            "Epoch 117/200\n",
            "1/1 [==============================] - 0s 10ms/step - loss: 0.0775\n",
            "Epoch 118/200\n",
            "1/1 [==============================] - 0s 11ms/step - loss: 0.0759\n",
            "Epoch 119/200\n",
            "1/1 [==============================] - 0s 11ms/step - loss: 0.0743\n",
            "Epoch 120/200\n",
            "1/1 [==============================] - 0s 11ms/step - loss: 0.0728\n",
            "Epoch 121/200\n",
            "1/1 [==============================] - 0s 11ms/step - loss: 0.0713\n",
            "Epoch 122/200\n",
            "1/1 [==============================] - 0s 9ms/step - loss: 0.0698\n",
            "Epoch 123/200\n",
            "1/1 [==============================] - 0s 11ms/step - loss: 0.0684\n",
            "Epoch 124/200\n",
            "1/1 [==============================] - 0s 12ms/step - loss: 0.0670\n",
            "Epoch 125/200\n",
            "1/1 [==============================] - 0s 13ms/step - loss: 0.0656\n",
            "Epoch 126/200\n",
            "1/1 [==============================] - 0s 12ms/step - loss: 0.0643\n",
            "Epoch 127/200\n",
            "1/1 [==============================] - 0s 11ms/step - loss: 0.0630\n",
            "Epoch 128/200\n",
            "1/1 [==============================] - 0s 11ms/step - loss: 0.0617\n",
            "Epoch 129/200\n",
            "1/1 [==============================] - 0s 11ms/step - loss: 0.0604\n",
            "Epoch 130/200\n",
            "1/1 [==============================] - 0s 12ms/step - loss: 0.0592\n",
            "Epoch 131/200\n",
            "1/1 [==============================] - 0s 12ms/step - loss: 0.0579\n",
            "Epoch 132/200\n",
            "1/1 [==============================] - 0s 12ms/step - loss: 0.0567\n",
            "Epoch 133/200\n",
            "1/1 [==============================] - 0s 11ms/step - loss: 0.0556\n",
            "Epoch 134/200\n",
            "1/1 [==============================] - 0s 11ms/step - loss: 0.0544\n",
            "Epoch 135/200\n",
            "1/1 [==============================] - 0s 11ms/step - loss: 0.0533\n",
            "Epoch 136/200\n",
            "1/1 [==============================] - 0s 10ms/step - loss: 0.0522\n",
            "Epoch 137/200\n",
            "1/1 [==============================] - 0s 13ms/step - loss: 0.0512\n",
            "Epoch 138/200\n",
            "1/1 [==============================] - 0s 12ms/step - loss: 0.0501\n",
            "Epoch 139/200\n",
            "1/1 [==============================] - 0s 10ms/step - loss: 0.0491\n",
            "Epoch 140/200\n",
            "1/1 [==============================] - 0s 12ms/step - loss: 0.0481\n",
            "Epoch 141/200\n",
            "1/1 [==============================] - 0s 13ms/step - loss: 0.0471\n",
            "Epoch 142/200\n",
            "1/1 [==============================] - 0s 17ms/step - loss: 0.0461\n",
            "Epoch 143/200\n",
            "1/1 [==============================] - 0s 18ms/step - loss: 0.0452\n",
            "Epoch 144/200\n",
            "1/1 [==============================] - 0s 11ms/step - loss: 0.0442\n",
            "Epoch 145/200\n",
            "1/1 [==============================] - 0s 13ms/step - loss: 0.0433\n",
            "Epoch 146/200\n",
            "1/1 [==============================] - 0s 12ms/step - loss: 0.0424\n",
            "Epoch 147/200\n",
            "1/1 [==============================] - 0s 12ms/step - loss: 0.0416\n",
            "Epoch 148/200\n",
            "1/1 [==============================] - 0s 11ms/step - loss: 0.0407\n",
            "Epoch 149/200\n",
            "1/1 [==============================] - 0s 14ms/step - loss: 0.0399\n",
            "Epoch 150/200\n",
            "1/1 [==============================] - 0s 12ms/step - loss: 0.0391\n",
            "Epoch 151/200\n",
            "1/1 [==============================] - 0s 11ms/step - loss: 0.0383\n",
            "Epoch 152/200\n",
            "1/1 [==============================] - 0s 11ms/step - loss: 0.0375\n",
            "Epoch 153/200\n",
            "1/1 [==============================] - 0s 12ms/step - loss: 0.0367\n",
            "Epoch 154/200\n",
            "1/1 [==============================] - 0s 12ms/step - loss: 0.0359\n",
            "Epoch 155/200\n",
            "1/1 [==============================] - 0s 14ms/step - loss: 0.0352\n",
            "Epoch 156/200\n",
            "1/1 [==============================] - 0s 11ms/step - loss: 0.0345\n",
            "Epoch 157/200\n",
            "1/1 [==============================] - 0s 12ms/step - loss: 0.0338\n",
            "Epoch 158/200\n",
            "1/1 [==============================] - 0s 20ms/step - loss: 0.0331\n",
            "Epoch 159/200\n",
            "1/1 [==============================] - 0s 16ms/step - loss: 0.0324\n",
            "Epoch 160/200\n",
            "1/1 [==============================] - 0s 14ms/step - loss: 0.0317\n",
            "Epoch 161/200\n",
            "1/1 [==============================] - 0s 19ms/step - loss: 0.0311\n",
            "Epoch 162/200\n",
            "1/1 [==============================] - 0s 18ms/step - loss: 0.0304\n",
            "Epoch 163/200\n",
            "1/1 [==============================] - 0s 15ms/step - loss: 0.0298\n",
            "Epoch 164/200\n",
            "1/1 [==============================] - 0s 12ms/step - loss: 0.0292\n",
            "Epoch 165/200\n",
            "1/1 [==============================] - 0s 11ms/step - loss: 0.0286\n",
            "Epoch 166/200\n",
            "1/1 [==============================] - 0s 13ms/step - loss: 0.0280\n",
            "Epoch 167/200\n",
            "1/1 [==============================] - 0s 11ms/step - loss: 0.0274\n",
            "Epoch 168/200\n",
            "1/1 [==============================] - 0s 11ms/step - loss: 0.0269\n",
            "Epoch 169/200\n",
            "1/1 [==============================] - 0s 10ms/step - loss: 0.0263\n",
            "Epoch 170/200\n",
            "1/1 [==============================] - 0s 11ms/step - loss: 0.0258\n",
            "Epoch 171/200\n",
            "1/1 [==============================] - 0s 10ms/step - loss: 0.0253\n",
            "Epoch 172/200\n",
            "1/1 [==============================] - 0s 10ms/step - loss: 0.0247\n",
            "Epoch 173/200\n",
            "1/1 [==============================] - 0s 10ms/step - loss: 0.0242\n",
            "Epoch 174/200\n",
            "1/1 [==============================] - 0s 12ms/step - loss: 0.0237\n",
            "Epoch 175/200\n",
            "1/1 [==============================] - 0s 11ms/step - loss: 0.0232\n",
            "Epoch 176/200\n",
            "1/1 [==============================] - 0s 13ms/step - loss: 0.0228\n",
            "Epoch 177/200\n",
            "1/1 [==============================] - 0s 15ms/step - loss: 0.0223\n",
            "Epoch 178/200\n",
            "1/1 [==============================] - 0s 16ms/step - loss: 0.0218\n",
            "Epoch 179/200\n",
            "1/1 [==============================] - 0s 14ms/step - loss: 0.0214\n",
            "Epoch 180/200\n",
            "1/1 [==============================] - 0s 12ms/step - loss: 0.0210\n",
            "Epoch 181/200\n",
            "1/1 [==============================] - 0s 17ms/step - loss: 0.0205\n",
            "Epoch 182/200\n",
            "1/1 [==============================] - 0s 9ms/step - loss: 0.0201\n",
            "Epoch 183/200\n",
            "1/1 [==============================] - 0s 9ms/step - loss: 0.0197\n",
            "Epoch 184/200\n",
            "1/1 [==============================] - 0s 13ms/step - loss: 0.0193\n",
            "Epoch 185/200\n",
            "1/1 [==============================] - 0s 13ms/step - loss: 0.0189\n",
            "Epoch 186/200\n",
            "1/1 [==============================] - 0s 14ms/step - loss: 0.0185\n",
            "Epoch 187/200\n",
            "1/1 [==============================] - 0s 11ms/step - loss: 0.0181\n",
            "Epoch 188/200\n",
            "1/1 [==============================] - 0s 11ms/step - loss: 0.0178\n",
            "Epoch 189/200\n",
            "1/1 [==============================] - 0s 9ms/step - loss: 0.0174\n",
            "Epoch 190/200\n",
            "1/1 [==============================] - 0s 10ms/step - loss: 0.0170\n",
            "Epoch 191/200\n",
            "1/1 [==============================] - 0s 11ms/step - loss: 0.0167\n",
            "Epoch 192/200\n",
            "1/1 [==============================] - 0s 12ms/step - loss: 0.0163\n",
            "Epoch 193/200\n",
            "1/1 [==============================] - 0s 14ms/step - loss: 0.0160\n",
            "Epoch 194/200\n",
            "1/1 [==============================] - 0s 14ms/step - loss: 0.0157\n",
            "Epoch 195/200\n",
            "1/1 [==============================] - 0s 13ms/step - loss: 0.0153\n",
            "Epoch 196/200\n",
            "1/1 [==============================] - 0s 16ms/step - loss: 0.0150\n",
            "Epoch 197/200\n",
            "1/1 [==============================] - 0s 10ms/step - loss: 0.0147\n",
            "Epoch 198/200\n",
            "1/1 [==============================] - 0s 10ms/step - loss: 0.0144\n",
            "Epoch 199/200\n",
            "1/1 [==============================] - 0s 10ms/step - loss: 0.0141\n",
            "Epoch 200/200\n",
            "1/1 [==============================] - 0s 9ms/step - loss: 0.0138\n"
          ]
        },
        {
          "output_type": "execute_result",
          "data": {
            "text/plain": [
              "<keras.src.callbacks.History at 0x7e8dc858f940>"
            ]
          },
          "metadata": {},
          "execution_count": 4
        }
      ]
    },
    {
      "cell_type": "markdown",
      "metadata": {
        "id": "EjsB-QICGt6L"
      },
      "source": [
        "## Generate a SavedModel"
      ]
    },
    {
      "cell_type": "code",
      "metadata": {
        "id": "a9xcbK7QHOfm"
      },
      "source": [
        "export_dir = 'saved_model/1'\n",
        "tf.saved_model.save(model, export_dir)"
      ],
      "execution_count": 5,
      "outputs": []
    },
    {
      "cell_type": "markdown",
      "metadata": {
        "id": "RRtsNwkiGxcO"
      },
      "source": [
        "## Convert the SavedModel to TFLite"
      ]
    },
    {
      "cell_type": "code",
      "metadata": {
        "id": "TtM8yKTVTpD3"
      },
      "source": [
        "# Convert the model.\n",
        "converter = tf.lite.TFLiteConverter.from_saved_model(export_dir)\n",
        "tflite_model = converter.convert()"
      ],
      "execution_count": 6,
      "outputs": []
    },
    {
      "cell_type": "code",
      "metadata": {
        "id": "4idYulcNHTdO",
        "colab": {
          "base_uri": "https://localhost:8080/"
        },
        "outputId": "e6ced325-7305-4951-e1e0-e87a9553dbc7"
      },
      "source": [
        "tflite_model_file = pathlib.Path('model.tflite')\n",
        "tflite_model_file.write_bytes(tflite_model)"
      ],
      "execution_count": 7,
      "outputs": [
        {
          "output_type": "execute_result",
          "data": {
            "text/plain": [
              "1080"
            ]
          },
          "metadata": {},
          "execution_count": 7
        }
      ]
    },
    {
      "cell_type": "markdown",
      "metadata": {
        "id": "HgGvp2yBG25Q"
      },
      "source": [
        "## Initialize the TFLite Interpreter To Try It Out"
      ]
    },
    {
      "cell_type": "code",
      "metadata": {
        "id": "DOt94wIWF8m7"
      },
      "source": [
        "# Load TFLite model and allocate tensors.\n",
        "interpreter = tf.lite.Interpreter(model_content=tflite_model)\n",
        "interpreter.allocate_tensors()\n",
        "\n",
        "# Get input and output tensors.\n",
        "input_details = interpreter.get_input_details()\n",
        "output_details = interpreter.get_output_details()"
      ],
      "execution_count": 8,
      "outputs": []
    },
    {
      "cell_type": "code",
      "metadata": {
        "id": "JGYkEK08F8qK"
      },
      "source": [
        "# Test the TensorFlow Lite model on random input data.\n",
        "input_shape = input_details[0]['shape']\n",
        "inputs, outputs = [], []\n",
        "for _ in range(100):\n",
        "    input_data = np.array(np.random.random_sample(input_shape), dtype=np.float32)\n",
        "    interpreter.set_tensor(input_details[0]['index'], input_data)\n",
        "\n",
        "    interpreter.invoke()\n",
        "    tflite_results = interpreter.get_tensor(output_details[0]['index'])\n",
        "\n",
        "    # Test the TensorFlow model on random input data.\n",
        "    tf_results = model(tf.constant(input_data))\n",
        "    output_data = np.array(tf_results)\n",
        "\n",
        "    inputs.append(input_data[0][0])\n",
        "    outputs.append(output_data[0][0])"
      ],
      "execution_count": 9,
      "outputs": []
    },
    {
      "cell_type": "markdown",
      "metadata": {
        "id": "t1gQGH1KWAgW"
      },
      "source": [
        "## Visualize the Model"
      ]
    },
    {
      "cell_type": "code",
      "metadata": {
        "id": "ccvQ1mEJVrqo",
        "colab": {
          "base_uri": "https://localhost:8080/",
          "height": 430
        },
        "outputId": "67bd758b-07e9-4285-bc1f-9d2b41195eac"
      },
      "source": [
        "%matplotlib inline\n",
        "\n",
        "plt.plot(inputs, outputs, 'r')\n",
        "plt.show()"
      ],
      "execution_count": 10,
      "outputs": [
        {
          "output_type": "display_data",
          "data": {
            "text/plain": [
              "<Figure size 640x480 with 1 Axes>"
            ],
            "image/png": "[encoded data removed]"
          },
          "metadata": {}
        }
      ]
    },
    {
      "cell_type": "markdown",
      "metadata": {
        "id": "WbugMH6yKvtd"
      },
      "source": [
        "## Download the TFLite Model File\n",
        "\n",
        "If you are running this notebook in a Colab, you can run the cell below to download the tflite model to your local disk.\n",
        "\n",
        "**Note**: If the file does not download when you run the cell, try running the cell a second time."
      ]
    },
    {
      "cell_type": "code",
      "metadata": {
        "id": "FOAIMETeJmkc",
        "colab": {
          "base_uri": "https://localhost:8080/",
          "height": 17
        },
        "outputId": "81094520-cc43-4564-8f6f-df614d61ba11"
      },
      "source": [
        "try:\n",
        "    from google.colab import files\n",
        "    files.download(tflite_model_file)\n",
        "except:\n",
        "    pass"
      ],
      "execution_count": 11,
      "outputs": [
        {
          "output_type": "display_data",
          "data": {
            "text/plain": [
              "<IPython.core.display.Javascript object>"
            ],
            "application/javascript": [
              "\n",
              "    async function download(id, filename, size) {\n",
              "      if (!google.colab.kernel.accessAllowed) {\n",
              "        return;\n",
              "      }\n",
              "      const div = document.createElement('div');\n",
              "      const label = document.createElement('label');\n",
              "      label.textContent = `Downloading \"${filename}\": `;\n",
              "      div.appendChild(label);\n",
              "      const progress = document.createElement('progress');\n",
              "      progress.max = size;\n",
              "      div.appendChild(progress);\n",
              "      document.body.appendChild(div);\n",
              "\n",
              "      const buffers = [];\n",
              "      let downloaded = 0;\n",
              "\n",
              "      const channel = await google.colab.kernel.comms.open(id);\n",
              "      // Send a message to notify the kernel that we're ready.\n",
              "      channel.send({})\n",
              "\n",
              "      for await (const message of channel.messages) {\n",
              "        // Send a message to notify the kernel that we're ready.\n",
              "        channel.send({})\n",
              "        if (message.buffers) {\n",
              "          for (const buffer of message.buffers) {\n",
              "            buffers.push(buffer);\n",
              "            downloaded += buffer.byteLength;\n",
              "            progress.value = downloaded;\n",
              "          }\n",
              "        }\n",
              "      }\n",
              "      const blob = new Blob(buffers, {type: 'application/binary'});\n",
              "      const a = document.createElement('a');\n",
              "      a.href = window.URL.createObjectURL(blob);\n",
              "      a.download = filename;\n",
              "      div.appendChild(a);\n",
              "      a.click();\n",
              "      div.remove();\n",
              "    }\n",
              "  "
            ]
          },
          "metadata": {}
        },
        {
          "output_type": "display_data",
          "data": {
            "text/plain": [
              "<IPython.core.display.Javascript object>"
            ],
            "application/javascript": [
              "download(\"download_9fcdd1be-445c-4325-9b9d-4e1ef8a420dc\", \"model.tflite\", 1080)"
            ]
          },
          "metadata": {}
        }
      ]
    }
  ]
}